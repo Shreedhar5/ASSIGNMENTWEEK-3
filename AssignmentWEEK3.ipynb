{
  "nbformat": 4,
  "nbformat_minor": 0,
  "metadata": {
    "colab": {
      "provenance": [],
      "authorship_tag": "ABX9TyMjO5ozh0hzBNlIJuaGklsd",
      "include_colab_link": true
    },
    "kernelspec": {
      "name": "python3",
      "display_name": "Python 3"
    },
    "language_info": {
      "name": "python"
    }
  },
  "cells": [
    {
      "cell_type": "markdown",
      "metadata": {
        "id": "view-in-github",
        "colab_type": "text"
      },
      "source": [
        "<a href=\"https://colab.research.google.com/github/Shreedhar5/ASSIGNMENTWEEK-3/blob/main/AssignmentWEEK3.ipynb\" target=\"_parent\"><img src=\"https://colab.research.google.com/assets/colab-badge.svg\" alt=\"Open In Colab\"/></a>"
      ]
    },
    {
      "cell_type": "markdown",
      "source": [],
      "metadata": {
        "id": "UGplXpcqoExW"
      }
    },
    {
      "cell_type": "markdown",
      "source": [
        "#Create a function that returns True if a given inequality expression is correct and False otherwise."
      ],
      "metadata": {
        "id": "pzXO3P-xoICB"
      }
    },
    {
      "cell_type": "code",
      "source": [
        "def check(s):\n",
        "    abc=eval(s)\n",
        "    if abc:\n",
        "        return True\n",
        "    else:\n",
        "      return False\n",
        "\n",
        "\n",
        "print(check(\"4 < 9< 30\"))"
      ],
      "metadata": {
        "colab": {
          "base_uri": "https://localhost:8080/"
        },
        "id": "dRq3x5BOoHFP",
        "outputId": "f1b10fbe-7fa5-48de-ade4-422aa30ad167"
      },
      "execution_count": null,
      "outputs": [
        {
          "output_type": "stream",
          "name": "stdout",
          "text": [
            "True\n"
          ]
        }
      ]
    },
    {
      "cell_type": "markdown",
      "source": [
        "Create a function that takes three arguments a, b, c and returns the sum of the numbers that are evenly divided by c from the range a, b inclusive."
      ],
      "metadata": {
        "id": "5WePyGF1ork8"
      }
    },
    {
      "cell_type": "code",
      "source": [
        "def sumDivisibles(A, B, C):\n",
        "    sum = 0\n",
        "\n",
        "    for i in range(A, B + 1):\n",
        " \n",
        "        if (i % C == 0):\n",
        "            sum += i\n",
        " \n",
        "    return sum\n",
        "\n",
        "     \n",
        "A = int(input(\"Enter value of A =\"))\n",
        "B = int(input(\"Enter value of B =\"))\n",
        "C = int(input(\"Enter value of C =\"))\n",
        " \n",
        "print(sumDivisibles(A, B, C))"
      ],
      "metadata": {
        "colab": {
          "base_uri": "https://localhost:8080/"
        },
        "id": "sg8DgMA8ox2n",
        "outputId": "3bfde72c-caab-4f1b-fdea-f437688798e3"
      },
      "execution_count": null,
      "outputs": [
        {
          "output_type": "stream",
          "name": "stdout",
          "text": [
            "Enter value of A =12\n",
            "Enter value of B =34\n",
            "Enter value of C =54\n",
            "0\n"
          ]
        }
      ]
    },
    {
      "cell_type": "markdown",
      "source": [
        "Create a function that replaces all the vowels in a string with a specified character."
      ],
      "metadata": {
        "id": "DIzZcvJwpMlS"
      }
    },
    {
      "cell_type": "code",
      "source": [
        "def replaceVowels(str, K):\n",
        "    vowels = 'AEIOUaeiou'\n",
        "    for i in vowels:\n",
        "      str = str.replace(i, K)\n",
        "    return str\n",
        "\n",
        "input = \"My favorite food is butter chicken\"\n",
        "K = \"*\"\n",
        "print(\"Given String:\", input)\n",
        "print(\"Given Specified Character:\", K)\n",
        "print(\"After replacing vowels with the specified character:\", replaceVowels(input, K))"
      ],
      "metadata": {
        "colab": {
          "base_uri": "https://localhost:8080/"
        },
        "id": "QHDBNsYbpR2p",
        "outputId": "464ae9c4-b615-4ecd-f6be-4f87b2c64c1d"
      },
      "execution_count": null,
      "outputs": [
        {
          "output_type": "stream",
          "name": "stdout",
          "text": [
            "Given String: My favorite food is butter chicken\n",
            "Given Specified Character: *\n",
            "After replacing vowels with the specified character: My f*v*r*t* f**d *s b*tt*r ch*ck*n\n"
          ]
        }
      ]
    },
    {
      "cell_type": "markdown",
      "source": [
        "Write a function that calculates the factorial of a number recursively."
      ],
      "metadata": {
        "id": "Y8_CpCnSpvBb"
      }
    },
    {
      "cell_type": "code",
      "source": [
        "def factorial(n): \n",
        "    if (n==1 or n==0): \n",
        "        return 1\n",
        "    else:     \n",
        "        return (n * factorial(n - 1)) \n",
        "  \n",
        "num = 4\n",
        "print(\"number : \",num)\n",
        "print(\"Factorial : \",factorial(num))"
      ],
      "metadata": {
        "colab": {
          "base_uri": "https://localhost:8080/"
        },
        "id": "yhRKfnaqp42U",
        "outputId": "a6106b78-63ad-4bdc-97d4-e2a322c2e33d"
      },
      "execution_count": null,
      "outputs": [
        {
          "output_type": "stream",
          "name": "stdout",
          "text": [
            "number :  4\n",
            "Factorial :  24\n"
          ]
        }
      ]
    },
    {
      "cell_type": "markdown",
      "source": [
        "Create a function that computes the hamming distance between two strings."
      ],
      "metadata": {
        "id": "V6PHmNq-qEM3"
      }
    },
    {
      "cell_type": "code",
      "source": [
        "def hammingDist(str1, str2):\n",
        "    i = 0\n",
        "    count = 0\n",
        " \n",
        "    while(i < len(str1)):\n",
        "        if(str1[i] != str2[i]):\n",
        "            count += 1\n",
        "        i += 1\n",
        "    return count\n",
        " \n",
        "str1 = \"winner\"\n",
        "str2 = \"wrangler\"\n",
        "\n",
        "print(hammingDist(str1, str2))"
      ],
      "metadata": {
        "colab": {
          "base_uri": "https://localhost:8080/"
        },
        "id": "uQVbuyxEqDjo",
        "outputId": "bce48d1b-7f71-4284-b627-dc7b94ca2a00"
      },
      "execution_count": null,
      "outputs": [
        {
          "output_type": "stream",
          "name": "stdout",
          "text": [
            "4\n"
          ]
        }
      ]
    },
    {
      "cell_type": "markdown",
      "source": [],
      "metadata": {
        "id": "QUmmbBaXqc_R"
      }
    },
    {
      "cell_type": "markdown",
      "source": [
        "Create a function that takes a list of non-negative integers and strings and return a new list without the strings."
      ],
      "metadata": {
        "id": "USVv1VV5qfat"
      }
    },
    {
      "cell_type": "code",
      "source": [
        "def filter_list(l):  \n",
        "    output = []\n",
        "    for i in l:  \n",
        "        if type(i) != str:  \n",
        "            output.append(i)  \n",
        "    return output\n",
        "\n",
        "print(filter_list([4,133,'h','s',56,3,'b']))"
      ],
      "metadata": {
        "colab": {
          "base_uri": "https://localhost:8080/"
        },
        "id": "u84gkbnPqdn0",
        "outputId": "cfe1f5eb-38bd-4ae5-9016-bf3a27df4e4e"
      },
      "execution_count": null,
      "outputs": [
        {
          "output_type": "stream",
          "name": "stdout",
          "text": [
            "[4, 133, 56, 3]\n"
          ]
        }
      ]
    },
    {
      "cell_type": "markdown",
      "source": [
        "The \"Reverser\" takes a string as input and returns that string in reverse order, with the opposite case."
      ],
      "metadata": {
        "id": "zgeOgdZwqxLc"
      }
    },
    {
      "cell_type": "code",
      "source": [
        "def reverse(str):\n",
        "    str = str[::-1]\n",
        "    return str.swapcase()\n",
        "\n",
        "reverse('world of truth')"
      ],
      "metadata": {
        "colab": {
          "base_uri": "https://localhost:8080/",
          "height": 35
        },
        "id": "Deozfk2UrK4n",
        "outputId": "36b18efe-29fe-4fc4-a75c-4d5a7aa9d54e"
      },
      "execution_count": null,
      "outputs": [
        {
          "output_type": "execute_result",
          "data": {
            "text/plain": [
              "'HTURT FO DLROW'"
            ],
            "application/vnd.google.colaboratory.intrinsic+json": {
              "type": "string"
            }
          },
          "metadata": {},
          "execution_count": 8
        }
      ]
    },
    {
      "cell_type": "markdown",
      "source": [
        "with middle being everything in between the first and last element."
      ],
      "metadata": {
        "id": "nMuEYFk-rZe7"
      }
    },
    {
      "cell_type": "code",
      "source": [
        "lst = [1, 2, 3, 4, 5, 6]\n",
        "first = lst[0]\n",
        "middle = lst[1:-1]\n",
        "last = lst[-1]\n",
        "\n",
        "print(first)\n",
        "print(middle)\n",
        "print(last)"
      ],
      "metadata": {
        "colab": {
          "base_uri": "https://localhost:8080/"
        },
        "id": "_5LmKOn8rZCT",
        "outputId": "984f4815-53de-436e-8f77-30b4b940612d"
      },
      "execution_count": null,
      "outputs": [
        {
          "output_type": "stream",
          "name": "stdout",
          "text": [
            "1\n",
            "[2, 3, 4, 5]\n",
            "6\n"
          ]
        }
      ]
    },
    {
      "cell_type": "markdown",
      "source": [
        "Write a function that moves all elements of one type to the end of the list."
      ],
      "metadata": {
        "id": "nNJiA77nvE_J"
      }
    },
    {
      "cell_type": "code",
      "source": [
        "def move_end(array, toMove):\n",
        "    i = 0\n",
        "    s = len(array) - 1\n",
        "    while (i < s):\n",
        "        while (i < s and array[s] == toMove):\n",
        "            s-=1\n",
        "  \n",
        "        if (array[i] == toMove):\n",
        "            array[i], array[s] = array[s] , array[i]\n",
        "        i += 1\n",
        "    return array\n",
        "\n",
        "arr = ['d', 'd', 'd', 'b']\n",
        "k = 'd'\n",
        "ans = move_end(arr, k)\n",
        "for i in range(len(arr)):\n",
        "    print(ans[i] ,end= \" \")"
      ],
      "metadata": {
        "colab": {
          "base_uri": "https://localhost:8080/"
        },
        "id": "SchgdbxLvMNQ",
        "outputId": "29bebbd8-66a4-4f53-a222-d2d8ddc6914f"
      },
      "execution_count": null,
      "outputs": [
        {
          "output_type": "stream",
          "name": "stdout",
          "text": [
            "b d d d "
          ]
        }
      ]
    },
    {
      "cell_type": "markdown",
      "source": [
        "Create a function that takes a string and returns a string in which each character is repeated once"
      ],
      "metadata": {
        "id": "gJkfvnZ9vcA8"
      }
    },
    {
      "cell_type": "code",
      "source": [
        "def double(str):\n",
        "    return ''.join([c+c for c in str])\n",
        "\n",
        "print(double('welcome'))"
      ],
      "metadata": {
        "colab": {
          "base_uri": "https://localhost:8080/"
        },
        "id": "T-CdFjPfvhmQ",
        "outputId": "1bceeae2-b353-4e17-d640-0c1fcf908b45"
      },
      "execution_count": null,
      "outputs": [
        {
          "output_type": "stream",
          "name": "stdout",
          "text": [
            "wweellccoommee\n"
          ]
        }
      ]
    },
    {
      "cell_type": "markdown",
      "source": [
        "Create a function that reverses a boolean value and returns the string \"boolean expected\" if another variable type is given."
      ],
      "metadata": {
        "id": "S3Pko-QEvij1"
      }
    },
    {
      "cell_type": "code",
      "source": [
        "def reverse(arg=None):\n",
        "    return not arg if type(arg) == bool else \"boolean expected\"\n",
        "\n",
        "print(reverse(True))\n",
        "print(reverse(False))\n",
        "print(reverse(0))\n",
        "print(reverse(None))"
      ],
      "metadata": {
        "colab": {
          "base_uri": "https://localhost:8080/"
        },
        "id": "OLR3gUFIvyCU",
        "outputId": "b1c8df8e-f83e-4ccc-efd3-678b710933bd"
      },
      "execution_count": null,
      "outputs": [
        {
          "output_type": "stream",
          "name": "stdout",
          "text": [
            "False\n",
            "True\n",
            "boolean expected\n",
            "boolean expected\n"
          ]
        }
      ]
    },
    {
      "cell_type": "markdown",
      "source": [
        "#Create a function that returns the thickness (in meters) of a piece of paper after folding it n number of times. The paper starts off with a thickness of 0.5mm."
      ],
      "metadata": {
        "id": "xdjAn_nwwFGg"
      }
    },
    {
      "cell_type": "code",
      "source": [
        "def layers(n):\n",
        "    thickness = 0.5\n",
        "    for _ in range(n):\n",
        "        thickness *= 2\n",
        "    return str(thickness / 1000)+'m' # for meters\n",
        "\n",
        "print(layers(1))\n",
        "print(layers(4))"
      ],
      "metadata": {
        "colab": {
          "base_uri": "https://localhost:8080/"
        },
        "id": "UWXKQh_Uv7Y0",
        "outputId": "74fa00ca-4b2c-450f-f4eb-62934c692d79"
      },
      "execution_count": null,
      "outputs": [
        {
          "output_type": "stream",
          "name": "stdout",
          "text": [
            "0.001m\n",
            "0.008m\n"
          ]
        }
      ]
    },
    {
      "cell_type": "markdown",
      "source": [
        "Create a function that takes a single string as argument and returns an ordered list containing the indices of all capital letters in the string\n",
        "def index_of_cap(word):"
      ],
      "metadata": {
        "id": "WBS6EZlCwWWp"
      }
    },
    {
      "cell_type": "code",
      "source": [
        "def index_of_cap(word):\n",
        "    indices = []\n",
        "    for i in range(len(word)):\n",
        "        if word[i].isupper():\n",
        "             indices.append(i)\n",
        "    return indices\n",
        "\n",
        "print(index_of_cap('olopc'))\n",
        "print(index_of_cap('GGgfdtJ'))\n",
        "print(index_of_cap('tthyJHYTKYU')) "
      ],
      "metadata": {
        "colab": {
          "base_uri": "https://localhost:8080/"
        },
        "id": "xiLYMAp2wXCR",
        "outputId": "368897dc-98c1-4b62-c43a-e5ede5c965a6"
      },
      "execution_count": null,
      "outputs": [
        {
          "output_type": "stream",
          "name": "stdout",
          "text": [
            "[]\n",
            "[0, 1, 6]\n",
            "[4, 5, 6, 7, 8, 9, 10]\n"
          ]
        }
      ]
    },
    {
      "cell_type": "markdown",
      "source": [
        "Using list comprehensions, create a function that finds all even numbers from 1 to the given number.\n"
      ],
      "metadata": {
        "id": "zexBXVbvwvFr"
      }
    },
    {
      "cell_type": "code",
      "source": [
        " def find_even_no(n):\n",
        "    even =[x for x in range(2,n+1) if x % 2 == 0]\n",
        "    return even\n",
        "\n",
        "n = int(input('Enter a number : '))\n",
        "find_even_no(n)"
      ],
      "metadata": {
        "id": "Vh8kRH-l1gJT",
        "outputId": "63a33b60-eac5-4aa9-8aea-c0d729c665be",
        "colab": {
          "base_uri": "https://localhost:8080/",
          "height": 0
        }
      },
      "execution_count": 3,
      "outputs": [
        {
          "name": "stdout",
          "output_type": "stream",
          "text": [
            "Enter a number : 44\n"
          ]
        },
        {
          "output_type": "execute_result",
          "data": {
            "text/plain": [
              "[2,\n",
              " 4,\n",
              " 6,\n",
              " 8,\n",
              " 10,\n",
              " 12,\n",
              " 14,\n",
              " 16,\n",
              " 18,\n",
              " 20,\n",
              " 22,\n",
              " 24,\n",
              " 26,\n",
              " 28,\n",
              " 30,\n",
              " 32,\n",
              " 34,\n",
              " 36,\n",
              " 38,\n",
              " 40,\n",
              " 42,\n",
              " 44]"
            ]
          },
          "metadata": {},
          "execution_count": 3
        }
      ]
    },
    {
      "cell_type": "markdown",
      "source": [
        "Create a function that takes a list of strings and integers, and filters out the list so that it returns a list of integers only\n"
      ],
      "metadata": {
        "id": "1iYAS0dc9n3_"
      }
    },
    {
      "cell_type": "code",
      "source": [
        "def filter_list(lst):\n",
        "    intlst = []\n",
        "    for i in lst:\n",
        "        if type(i) == int:\n",
        "            intlst.append(i)\n",
        "    return intlst \n",
        "\n",
        "filter_list([14, 32,13, 'c', 'r', 23])"
      ],
      "metadata": {
        "colab": {
          "base_uri": "https://localhost:8080/"
        },
        "id": "1DRakoAQ9uOE",
        "outputId": "a86ea929-7ba0-47e5-97f4-dec13d67c6ed"
      },
      "execution_count": null,
      "outputs": [
        {
          "output_type": "execute_result",
          "data": {
            "text/plain": [
              "[14, 32, 13, 23]"
            ]
          },
          "metadata": {},
          "execution_count": 37
        }
      ]
    },
    {
      "cell_type": "markdown",
      "source": [
        "Given a list of numbers, create a function which returns the list but with each element's index in the list added to itself.\n"
      ],
      "metadata": {
        "id": "_3mSJ9FM96Ml"
      }
    },
    {
      "cell_type": "code",
      "source": [
        "def add_index(lst):\n",
        "    ind = 0\n",
        "    index = []\n",
        "    for i in lst:\n",
        "        index.append(lst.index(i,ind) + i)\n",
        "        ind+=1\n",
        "    return index\n",
        "\n",
        "add_index([12, 22, 23, 24, 35])"
      ],
      "metadata": {
        "colab": {
          "base_uri": "https://localhost:8080/"
        },
        "id": "TNs5DScl95qj",
        "outputId": "a308b522-b99a-470e-f259-131e1a6269c2"
      },
      "execution_count": null,
      "outputs": [
        {
          "output_type": "execute_result",
          "data": {
            "text/plain": [
              "[12, 23, 25, 27, 39]"
            ]
          },
          "metadata": {},
          "execution_count": 38
        }
      ]
    },
    {
      "cell_type": "markdown",
      "source": [
        "Create a function that takes the height and radius of a cone as arguments and returns the volume of the cone rounded to the nearest hundredth\n"
      ],
      "metadata": {
        "id": "ADpU8yxE-ed_"
      }
    },
    {
      "cell_type": "code",
      "source": [
        "import math\n",
        "pi = math.pi\n",
        "def cone_volume(r, h):\n",
        "    return round((1 / 3) * pi * r * r * h)\n",
        "\n",
        "radius = float(input(\"Enter value of radius= \"))\n",
        "height = float(input(\"Enter value of height= \"))\n",
        "\n",
        "print( \"Volume Of Cone : \", cone_volume(radius, height) )\n",
        "\n"
      ],
      "metadata": {
        "id": "40Vax9uSHQy7",
        "outputId": "4786ebf6-4a5e-4cf2-fdcb-e3eaf0cc9b7d",
        "colab": {
          "base_uri": "https://localhost:8080/",
          "height": 0
        }
      },
      "execution_count": 1,
      "outputs": [
        {
          "output_type": "stream",
          "name": "stdout",
          "text": [
            "Enter value of radius= 6\n",
            "Enter value of height= 12\n",
            "Volume Of Cone :  452\n"
          ]
        }
      ]
    },
    {
      "cell_type": "markdown",
      "source": [
        "Write a function that gives the number of dots with its corresponding triangle number of the sequence.\n"
      ],
      "metadata": {
        "id": "330YFiAdHXaz"
      }
    },
    {
      "cell_type": "code",
      "source": [
        "def triangle(n):\n",
        "    return n*(n+1)*0.5\n",
        "\n",
        "n = int(input('Enter the trinalge number :'))\n",
        "print(\"The {}th triangle has {} dots \".format(n,int(triangle(n))))\n",
        "\n",
        "triangle(1)"
      ],
      "metadata": {
        "id": "MNzw-_2PHy5z",
        "outputId": "b10153a1-1f4c-4a99-f03f-48545b261a8f",
        "colab": {
          "base_uri": "https://localhost:8080/",
          "height": 0
        }
      },
      "execution_count": 2,
      "outputs": [
        {
          "output_type": "stream",
          "name": "stdout",
          "text": [
            "Enter the trinalge number :45\n",
            "The 45th triangle has 1035 dots \n"
          ]
        },
        {
          "output_type": "execute_result",
          "data": {
            "text/plain": [
              "1.0"
            ]
          },
          "metadata": {},
          "execution_count": 2
        }
      ]
    },
    {
      "cell_type": "markdown",
      "source": [
        "Create a function that takes a list of numbers between 1 and 10 (excluding one number) and returns the missing number.\n"
      ],
      "metadata": {
        "id": "c1JRWAyRH1D1"
      }
    },
    {
      "cell_type": "code",
      "source": [
        "def missing_num(lst):\n",
        "    total = sum([x for x in range(11)])\n",
        "    sum_of_list = sum(lst)\n",
        "    return total - sum_of_list\n",
        "\n",
        "print(missing_num([1, 2, 3, 4, 6, 7, 8, 9, 10]))"
      ],
      "metadata": {
        "colab": {
          "base_uri": "https://localhost:8080/"
        },
        "id": "r35oQac0H6Wg",
        "outputId": "891dbd1e-a29d-48c7-c7fd-eabd78de455d"
      },
      "execution_count": null,
      "outputs": [
        {
          "output_type": "stream",
          "name": "stdout",
          "text": [
            "5\n"
          ]
        }
      ]
    },
    {
      "cell_type": "markdown",
      "source": [],
      "metadata": {
        "id": "FI_yXmDFIDV5"
      }
    },
    {
      "cell_type": "code",
      "source": [],
      "metadata": {
        "id": "7ep8y6jGIC8j"
      },
      "execution_count": null,
      "outputs": []
    }
  ]
}